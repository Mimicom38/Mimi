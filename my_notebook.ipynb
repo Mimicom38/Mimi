{
  "nbformat": 4,
  "nbformat_minor": 0,
  "metadata": {
    "colab": {
      "provenance": [],
      "authorship_tag": "ABX9TyP/XCLsWB9a9Qa79Mt8ZGE6",
      "include_colab_link": true
    },
    "kernelspec": {
      "name": "python3",
      "display_name": "Python 3"
    },
    "language_info": {
      "name": "python"
    }
  },
  "cells": [
    {
      "cell_type": "markdown",
      "metadata": {
        "id": "view-in-github",
        "colab_type": "text"
      },
      "source": [
        "<a href=\"https://colab.research.google.com/github/Mimicom38/Mimi/blob/main/my_notebook.ipynb\" target=\"_parent\"><img src=\"https://colab.research.google.com/assets/colab-badge.svg\" alt=\"Open In Colab\"/></a>"
      ]
    },
    {
      "cell_type": "code",
      "source": [
        "%%time\n",
        "\n",
        "import torch\n",
        "from torch import optim\n",
        "import torch.nn as nn\n",
        "import torch.nn.functional as F\n",
        "from torchvision.datasets import CIFAR10\n",
        "import torchvision.transforms as transforms\n",
        "from torch.utils.data import DataLoader\n",
        "\n",
        "cifar10_train = CIFAR10(\"./data\", train=True, download=True, transform=transforms.ToTensor())\n",
        "cifar10_test = CIFAR10(\"./data\", train=False, download=True, transform=transforms.ToTensor())\n",
        "\n",
        "batch_size = 64\n",
        "train_loader = DataLoader(cifar10_train, batch_size=batch_size, shuffle=True)\n",
        "test_loader = DataLoader(cifar10_test, batch_size=len(cifar10_test), shuffle=False)\n",
        "\n",
        "class Net(nn.Module):\n",
        "  def __init__(self):\n",
        "    super().__init__()\n",
        "    self.conv1 = nn.Conv2d(3, 6, 5)\n",
        "    self.pool = nn.MaxPool2d(2, 2)\n",
        "    self.conv2 = nn.Conv2d(6, 16, 5)\n",
        "    self.fc1 = nn.Linear(16 * 5 * 5, 256)\n",
        "    self.fc2 = nn.Linear(256, 10)\n",
        "\n",
        "  def forward(self, x):\n",
        "    x = self.pool(F.relu(self.conv1(x)))\n",
        "    x = self.pool(F.relu(self.conv2(x)))\n",
        "    x = x.view(-1, 16*5*5)\n",
        "    x = F.relu(self.fc1(x))\n",
        "    x = self.fc2(x)\n",
        "    return x"
      ],
      "metadata": {
        "id": "kKAbK5udFaos",
        "colab": {
          "base_uri": "https://localhost:8080/"
        },
        "outputId": "e91fcea0-1a0a-4db7-f439-90c1fd13626e"
      },
      "execution_count": null,
      "outputs": [
        {
          "output_type": "stream",
          "name": "stdout",
          "text": [
            "Files already downloaded and verified\n",
            "Files already downloaded and verified\n",
            "CPU times: user 1.6 s, sys: 323 ms, total: 1.92 s\n",
            "Wall time: 1.94 s\n"
          ]
        }
      ]
    },
    {
      "cell_type": "code",
      "source": [],
      "metadata": {
        "id": "ySOGlyI8EUs5"
      },
      "execution_count": null,
      "outputs": []
    },
    {
      "cell_type": "code",
      "source": [
        "net = Net()\n",
        "if torch.cuda.is_available():\n",
        "  net.cuda()\n",
        "\n",
        "loss_fnc = nn.CrossEntropyLoss()\n",
        "optimizer = optim.Adam(net.parameters())\n",
        "\n",
        "record_loss_train = []\n",
        "record_loss_test = []\n",
        "\n",
        "x_test, t_test = iter(test_loader).next()\n",
        "if torch.cuda.is_available():\n",
        "  x_test, t_test = x_test.cuda(), t_test.cuda()\n",
        "\n",
        "for i in range(10):\n",
        "  net.train()\n",
        "  loss_train = 0\n",
        "  for j, (x, t) in enumerate(train_loader):\n",
        "    if torch.cuda.is_available():\n",
        "      x, t = x.cuda(), t.cuda()\n",
        "    y = net(x)\n",
        "    loss = loss_fnc(y, t)\n",
        "    loss_train += loss.item()\n",
        "    optimizer.zero_grad()\n",
        "    loss.backward()\n",
        "    optimizer.step()\n",
        "  loss_train /= j+1\n",
        "  record_loss_train.append(loss_train)\n",
        "\n",
        "  net.eval()\n",
        "  y_test = net(x_test)\n",
        "  loss_test = loss_fnc(y_test, t_test).item()\n",
        "  record_loss_test.append(loss_test)"
      ],
      "metadata": {
        "id": "oSNEYZRDJY7H"
      },
      "execution_count": null,
      "outputs": []
    },
    {
      "cell_type": "markdown",
      "source": [
        "$$y=\\sum_{k=1}^5 a_kx_k + \\frac{b^2}{c}$$"
      ],
      "metadata": {
        "id": "EDE2OpmqsUXQ"
      }
    },
    {
      "cell_type": "code",
      "source": [],
      "metadata": {
        "id": "eTEIHDOYszmL"
      },
      "execution_count": null,
      "outputs": []
    }
  ]
}